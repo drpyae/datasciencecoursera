{
    "cells": [
        {
            "cell_type": "markdown",
            "metadata": {},
            "source": "<div class=\"alert alert-block alert-warning\"><strong>If you have this notebook as a local copy on your platform, it may become outdated. <a href=\"https://dataplatform.cloud.ibm.com/exchange/public/entry/view/029d77a73d72a4134c81383d6f01f1ed?context=cpdaas&audience=wdp\">Download the latest version of this notebook</a> or download the <a href=\"https://dataplatform.cloud.ibm.com/exchange/public/entry/view/cab78523832431e767c41527a42a6727?context=cpdaas?context=cpdaas&audience=wdp\">latest version of the project</a>.</strong></div>"
        },
        {
            "cell_type": "markdown",
            "metadata": {
                "id": "5f44e1599ee948d49366504d7f17bf05"
            },
            "source": "# Part 1 - WML Federated Learning with XGBoost and Adult Income dataset - Aggregator "
        },
        {
            "cell_type": "markdown",
            "metadata": {},
            "source": "With IBM Federated Learning, you can combine data from multiple sources to train a model from the collective data without having to actually share them. This allows enterprises to train data with other companies without delegating resources for security. Another advantage is the remote data does not have to be centralized in one location, eliminates the needs to move potentially large datasets. This notebook demonstrates how to start Federated Learning with the Python client. For more details setting up Federated Learning, terminology, and running Federated Learning from the UI, see [Federated Learning documentation](https://dataplatform.cloud.ibm.com/docs/content/wsj/analyze-data/fed-lea.html?audience=wdp).\n\n### Learning Goals\n\nWhen you complete the Part 1 - WML Federated Learning with XGBoost and Adult Income dataset - Aggregator notebook, you should know how to:\n\n- Create a Remote Training System\n- Start a training job\n\nOnce you complete this notebook, please open [Part 2 - WML Federated Learning with XGBoost and Adult Income dataset - Party](https://dataplatform.cloud.ibm.com/). "
        },
        {
            "cell_type": "markdown",
            "metadata": {},
            "source": "<div class=\"alert alert-block alert-info\">This notebook is intended to be run by the administrator of the Federated Learning experiment.</div>"
        },
        {
            "cell_type": "markdown",
            "metadata": {},
            "source": "## Table of Contents\n\n- [1. Prequisites](#prequisites)\n    - [1.1 Define variables](#var)\n    - [1.2 Define tags](#tags)\n    - [1.3 Import libraries](#libraries)\n- [2. Obtain IBM Cloud Token](#auth)\n- [3. Create a Remote Training System](#create-rts)\n- [4. Create FL Training Job](#fl-job)\n    - [4.1 Get Training Job Status](#status)\n- [5. Get Variables And Paste Into Party Notebook](#party-notebook)\n- [6. Save Trained Model](#save-model)\n    - [6.1 COS connection](#cos)\n    - [6.2 Install pre-reqs](#cos-prereqs)\n    - [6.3 Save model to project](#save-to-project)\n- [7. Save Trained Model](#cleanup)\n    - [7.1 List all training jobs](#list-jobs)\n    - [7.2 Delete training jobs](#del-jobs)\n    - [7.3 List all Remote Training Systems](#list-rts)\n    - [7.4 Delete Remote Training Systems](#del-rts)"
        },
        {
            "cell_type": "markdown",
            "metadata": {},
            "source": "<a id = \"prequisites\"></a>\n## 1. Prequisites\n\nBefore you proceed, you need to have:\n\n- An IAM API Key. To create a new one, go to [IBM Cloud homepage](https://cloud.ibm.com). In your account, go to **Manage < IAM < API Keys**. Click **Create an IBM Cloud API Key**."
        },
        {
            "cell_type": "markdown",
            "metadata": {
                "id": "f9cf4ca5ebbb48db85cdd30e89b8e57b"
            },
            "source": "<a id = \"var\"></a>\n### 1.1 Define variables"
        },
        {
            "cell_type": "code",
            "execution_count": 2,
            "metadata": {
                "id": "8362f3ba-928f-4546-9c37-33262fed1478"
            },
            "outputs": [],
            "source": "API_VERSION = \"2023-02-28\"\n\nWML_SERVICES_HOST = \"jp-tok.ml.cloud.ibm.com\" # or \"eu-de.ml.cloud.ibm.com\", \"eu-gb.ml.cloud.ibm.com\", \"jp-tok.ml.cloud.ibm.com\"\n\nWML_SERVICES_URL = \"https://\" + WML_SERVICES_HOST\nIAM_TOKEN_URL = \"https://iam.cloud.ibm.com/oidc/token\"\n \nIAM_APIKEY = \"BAPxeik6HjmRl30Patg8NwwKy4sIYwLMV-zakiBN_sie\"  \n\n# Get this from Manage < IAM < Users, and check the URL. Your user ID should be in the format IBMid-<xxx>.\nCLOUD_USERID = \"IBMid-668000KU4X\" \n\nPROJECT_ID = \"2d943195-1222-476b-b14a-3bd688958446\" # Get this by going into your WS project and checking the URL."
        },
        {
            "cell_type": "markdown",
            "metadata": {},
            "source": "<a id = \"tags\"></a>\n### 1.2 Define tags"
        },
        {
            "cell_type": "markdown",
            "metadata": {},
            "source": "Used to identify the assets created by this notebook"
        },
        {
            "cell_type": "code",
            "execution_count": 3,
            "metadata": {},
            "outputs": [],
            "source": "RTS_TAG = \"wmlflxgbsamplerts\"\nTRAINING_TAG = \"wmlflxgbsampletraining\""
        },
        {
            "cell_type": "markdown",
            "metadata": {
                "id": "d3b4599b8e854b1f8e3c434c689c30a7"
            },
            "source": "<a id = \"libraries\"></a>\n### 1.3 Import libraries"
        },
        {
            "cell_type": "code",
            "execution_count": 4,
            "metadata": {
                "id": "c920ac82a77843a089d87bf4b2b0bf8c"
            },
            "outputs": [],
            "source": "import urllib3\nimport requests\nimport json\nfrom string import Template\n\nurllib3.disable_warnings()"
        },
        {
            "cell_type": "markdown",
            "metadata": {
                "id": "a40be92efbd543a68ed64a157da9c561"
            },
            "source": "<a id = \"auth\"></a>\n## 2. Obtain Cloud authentication token"
        },
        {
            "cell_type": "code",
            "execution_count": 5,
            "metadata": {
                "id": "73549a34947242b8870db43e206b79e9"
            },
            "outputs": [
                {
                    "name": "stdout",
                    "output_type": "stream",
                    "text": "<Response [200]>\nWS token: Bearer eyJraWQiOiIyMDIzMDIxMDA4MjkiLCJhbGciOiJSUzI1NiJ9.eyJpYW1faWQiOiJJQk1pZC02NjgwMDBLVTRYIiwiaWQiOiJJQk1pZC02NjgwMDBLVTRYIiwicmVhbG1pZCI6IklCTWlkIiwianRpIjoiNWM5ZTMzNzAtZmQxYi00NTIwLWJhYTEtM2NiNTBiYjhiZTNhIiwiaWRlbnRpZmllciI6IjY2ODAwMEtVNFgiLCJnaXZlbl9uYW1lIjoiUHlhZSIsImZhbWlseV9uYW1lIjoiQXVuZyIsIm5hbWUiOiJQeWFlIEF1bmciLCJlbWFpbCI6ImRycHlhZXBoeW9hdW5nLnBna0BnbWFpbC5jb20iLCJzdWIiOiJkcnB5YWVwaHlvYXVuZy5wZ2tAZ21haWwuY29tIiwiYXV0aG4iOnsic3ViIjoiZHJweWFlcGh5b2F1bmcucGdrQGdtYWlsLmNvbSIsImlhbV9pZCI6IklCTWlkLTY2ODAwMEtVNFgiLCJuYW1lIjoiUHlhZSBBdW5nIiwiZ2l2ZW5fbmFtZSI6IlB5YWUiLCJmYW1pbHlfbmFtZSI6IkF1bmciLCJlbWFpbCI6ImRycHlhZXBoeW9hdW5nLnBna0BnbWFpbC5jb20ifSwiYWNjb3VudCI6eyJib3VuZGFyeSI6Imdsb2JhbCIsInZhbGlkIjp0cnVlLCJic3MiOiIyZmJlYjU5OGU0OTA0YzJhOTY2MTdlZmYyZTFiNzZiMCIsImZyb3plbiI6dHJ1ZX0sImlhdCI6MTY3NzYwMDg2NSwiZXhwIjoxNjc3NjA0NDY1LCJpc3MiOiJodHRwczovL2lhbS5jbG91ZC5pYm0uY29tL29pZGMvdG9rZW4iLCJncmFudF90eXBlIjoidXJuOmlibTpwYXJhbXM6b2F1dGg6Z3JhbnQtdHlwZTphcGlrZXkiLCJzY29wZSI6ImlibSBvcGVuaWQiLCJjbGllbnRfaWQiOiJkZWZhdWx0IiwiYWNyIjoxLCJhbXIiOlsicHdkIl19.lo3n2FcdfK4c2K8pIchZlmaQa-6IPhBdogrbCrcmfIoATiJuCXIAqU99j-b2I2XcyYOydZ9w6PTYrzXq6R9haNmwinJoyIXQIpvxZ2hsZFYc2tRwRbcx1Az0c0zhKMSd3NRIQOu_QEGHIQppat8PFtvd22nu-9U2s3luRW-DXsIOKmHcfRNCI-hHVaZxmvHeG72JMrBeL3l4BldQWy_ybnxTT7m_hZKaAcwsSlmHq-rew6FsVHq75yYUclSrOl_-SRRXusXkI_zm86XnuSCeG9fJBV9piZJJiTYdea9BK60ysUgL30EXnsVYY2J2TElo3bnsF1w9_S2HRZ3ZLbBM7A \n"
                }
            ],
            "source": "payload = \"grant_type=urn:ibm:params:oauth:grant-type:apikey&apikey=\" + IAM_APIKEY\ntoken_resp = requests.post(IAM_TOKEN_URL ,\n                          headers={\"Content-Type\": \"application/x-www-form-urlencoded\"}, \n                          data = payload,\n                          verify=True)\n\nprint(token_resp)\n\ntoken = \"Bearer \" + json.loads(token_resp.content.decode(\"utf-8\"))[\"access_token\"]\nprint(\"WS token: %s \" % token)"
        },
        {
            "cell_type": "markdown",
            "metadata": {
                "id": "002a07c9213543819bc07d32035e6179"
            },
            "source": "<a id = \"create-rts\"></a>\n## 3. Create Remote Training System Asset"
        },
        {
            "cell_type": "markdown",
            "metadata": {},
            "source": "Now you will learn to create a Remote Training System (RTS). An RTS handles receiving your multiple parties' call to the aggregator to run the training. \n- `allowed_identities` are users permitted to connect to the Federated Learning experiment.  In this tutorial, only your user ID is permitted to connect but you can update the template and add additional users as required.\n- An Admin in `remote_admin`. The template for the admin is the same as the user. In this tutorial, a template Admin is created. It is also the same as the user ID, however generally in application, the admin does not have to be one of the users."
        },
        {
            "cell_type": "code",
            "execution_count": 6,
            "metadata": {
                "id": "c7347a8fb21041b9864765975595cb64"
            },
            "outputs": [
                {
                    "name": "stdout",
                    "output_type": "stream",
                    "text": "<Response [201]>\nCreate remote training system response : {\n    \"entity\": {\n        \"allowed_identities\": [\n            {\n                \"id\": \"IBMid-668000KU4X\",\n                \"type\": \"user\"\n            }\n        ],\n        \"organization\": {\n            \"name\": \"IBM\",\n            \"region\": \"US\"\n        },\n        \"remote_admin\": {\n            \"id\": \"IBMid-668000KU4X\",\n            \"type\": \"user\"\n        }\n    },\n    \"metadata\": {\n        \"created_at\": \"2023-02-28T16:15:18.513Z\",\n        \"description\": \"Sample Remote Training System\",\n        \"id\": \"57077c88-9985-41ca-81c0-4f993605868d\",\n        \"modified_at\": \"2023-02-28T16:15:18.513Z\",\n        \"name\": \"Remote Party 1\",\n        \"owner\": \"IBMid-668000KU4X\",\n        \"project_id\": \"2d943195-1222-476b-b14a-3bd688958446\",\n        \"tags\": [\n            \"wmlflxgbsamplerts\"\n        ]\n    }\n}\nRemote Training System id: 57077c88-9985-41ca-81c0-4f993605868d\n"
                }
            ],
            "source": "wml_remote_training_system_asset_one_def = Template(\"\"\"\n{\n  \"name\": \"Remote Party 1\",\n  \"project_id\": \"$projectId\",\n  \"description\": \"Sample Remote Training System\",\n  \"tags\": [ \"$tag\" ],\n  \"organization\": {\n    \"name\": \"IBM\",\n    \"region\": \"US\"\n  },\n  \"allowed_identities\": [\n    {\n      \"id\": \"$userID\",\n      \"type\": \"user\"\n    }\n  ],\n  \"remote_admin\": {\n    \"id\": \"$userID\",\n    \"type\": \"user\"\n  }\n}\n\"\"\").substitute(userID = CLOUD_USERID,\n                projectId = PROJECT_ID,\n                tag = RTS_TAG)\n\n\nwml_remote_training_system_one_resp = requests.post(WML_SERVICES_URL + \"/ml/v4/remote_training_systems\", \n                                                    headers={\"Content-Type\": \"application/json\",\n                                                             \"Authorization\": token}, \n                                                    params={\"version\": API_VERSION,\n                                                            \"project_id\": PROJECT_ID}, \n                                                    data=wml_remote_training_system_asset_one_def, \n                                                    verify=False)\n\nprint(wml_remote_training_system_one_resp)\nstatus_json = json.loads(wml_remote_training_system_one_resp.content.decode(\"utf-8\"))\nprint(\"Create remote training system response : \"+ json.dumps(status_json, indent=4))\n\nwml_remote_training_system_one_asset_uid = json.loads(wml_remote_training_system_one_resp.content.decode(\"utf-8\"))[\"metadata\"][\"id\"]\nprint(\"Remote Training System id: %s\" % wml_remote_training_system_one_asset_uid)"
        },
        {
            "cell_type": "markdown",
            "metadata": {
                "id": "b4e0792625804b648f4a7a72f69707bf"
            },
            "source": "<a id = \"fl-job\"></a>\n## 4. Create FL Training Job\n\nIn this section, you will launch the Federated Learning experiment."
        },
        {
            "cell_type": "code",
            "execution_count": 7,
            "metadata": {},
            "outputs": [
                {
                    "name": "stdout",
                    "output_type": "stream",
                    "text": "<Response [201]>\nCreate training response : {\n    \"metadata\": {\n        \"created_at\": \"2023-02-28T16:15:30.437Z\",\n        \"id\": \"1e1a2a61-c884-44a5-9544-f033cd94b896\",\n        \"name\": \"FL Aggregator\",\n        \"project_id\": \"2d943195-1222-476b-b14a-3bd688958446\",\n        \"tags\": [\n            \"wmlflxgbsampletraining\"\n        ]\n    },\n    \"entity\": {\n        \"federated_learning\": {\n            \"fusion_type\": \"xgb_classifier\",\n            \"hardware_spec\": {\n                \"name\": \"XS\"\n            },\n            \"learning_rate\": 0.1,\n            \"loss\": \"binary_crossentropy\",\n            \"max_bins\": 255,\n            \"metrics\": \"loss\",\n            \"num_classes\": 2,\n            \"remote_training\": {\n                \"quorum\": 1.0,\n                \"remote_training_systems\": [\n                    {\n                        \"id\": \"57077c88-9985-41ca-81c0-4f993605868d\",\n                        \"required\": true\n                    }\n                ]\n            },\n            \"rounds\": 3,\n            \"software_spec\": {\n                \"name\": \"runtime-22.2-py3.10\"\n            }\n        },\n        \"name\": \"FL Aggregator\",\n        \"project_id\": \"2d943195-1222-476b-b14a-3bd688958446\",\n        \"results_reference\": {\n            \"connection\": {},\n            \"location\": {\n                \"path\": \".\",\n                \"notebooks_path\": \"1e1a2a61-c884-44a5-9544-f033cd94b896/notebooks\",\n                \"training\": \"1e1a2a61-c884-44a5-9544-f033cd94b896\",\n                \"training_status\": \"1e1a2a61-c884-44a5-9544-f033cd94b896/training-status.json\",\n                \"assets_path\": \"1e1a2a61-c884-44a5-9544-f033cd94b896/assets\"\n            },\n            \"type\": \"container\"\n        },\n        \"tags\": [\n            \"wmlflxgbsampletraining\"\n        ],\n        \"training_data_references\": []\n    }\n}\nTraining id: 1e1a2a61-c884-44a5-9544-f033cd94b896\n"
                }
            ],
            "source": "training_payload = Template(\"\"\" \n{\n  \"name\": \"FL Aggregator\",\n  \"tags\": [ \"$tag\" ],\n  \"federated_learning\": {\n    \"fusion_type\": \"xgb_classifier\",\n    \"learning_rate\": 0.1,\n    \"loss\": \"binary_crossentropy\",\n    \"max_bins\": 255,\n    \"rounds\": 3,\n    \"num_classes\": 2,\n    \"metrics\": \"loss\",\n    \"remote_training\" : {\n      \"quorum\": 1.0,\n      \"remote_training_systems\": [ { \"id\" : \"$rts_one\", \"required\" : true  } ]\n    },\n    \"software_spec\": {\n      \"name\": \"runtime-22.2-py3.10\"\n    },\n    \"hardware_spec\": {\n      \"name\": \"XS\"\n    }\n  },\n  \"training_data_references\": [],\n  \"results_reference\": {\n    \"type\": \"container\",\n    \"name\": \"outputData\",\n    \"connection\": {},\n    \"location\": {\n      \"path\": \".\"\n    }\n  },\n  \"project_id\": \"$projectId\"  \n}\n\"\"\").substitute(projectId = PROJECT_ID,\n                rts_one = wml_remote_training_system_one_asset_uid,\n                tag = TRAINING_TAG)\n\ncreate_training_resp = requests.post(WML_SERVICES_URL + \"/ml/v4/trainings\", params={\"version\": API_VERSION},\n                                     headers={\"Content-Type\": \"application/json\",\n                                              \"Authorization\": token},\n                                     data=training_payload,\n                                     verify=False)\n\nprint(create_training_resp)\nstatus_json = json.loads(create_training_resp.content.decode(\"utf-8\"))\nprint(\"Create training response : \"+ json.dumps(status_json, indent=4))\n\ntraining_id = json.loads(create_training_resp.content.decode(\"utf-8\"))[\"metadata\"][\"id\"]\nprint(\"Training id: %s\" % training_id)"
        },
        {
            "cell_type": "markdown",
            "metadata": {
                "id": "9b8321dced6647308e7e230ebe7d7d64"
            },
            "source": "<a id = \"status\"></a>\n### 4.1 Get Training Job Status"
        },
        {
            "cell_type": "markdown",
            "metadata": {},
            "source": "<div class=\"alert alert-block alert-info\">Before you run the following code, please make your that your project is associated with a Watson Machine Learning service. For more details on associating services, please see: <a href=\"https://dataplatform.cloud.ibm.com/docs/content/wsj/getting-started/assoc-services.html?context=cpdaas&audience=wdp\">Associating services</a></div>"
        },
        {
            "cell_type": "code",
            "execution_count": 8,
            "metadata": {
                "id": "cd2b5b45aa074c2a80d1ac3f27463327"
            },
            "outputs": [
                {
                    "name": "stdout",
                    "output_type": "stream",
                    "text": "<Response [200]>\nGet training response : {\n    \"metadata\": {\n        \"created_at\": \"2023-02-28T16:15:30.437Z\",\n        \"id\": \"1e1a2a61-c884-44a5-9544-f033cd94b896\",\n        \"modified_at\": \"2023-02-28T16:16:17.285Z\",\n        \"name\": \"FL Aggregator\",\n        \"project_id\": \"2d943195-1222-476b-b14a-3bd688958446\",\n        \"tags\": [\n            \"wmlflxgbsampletraining\"\n        ]\n    },\n    \"entity\": {\n        \"federated_learning\": {\n            \"fusion_type\": \"xgb_classifier\",\n            \"hardware_spec\": {\n                \"name\": \"XS\"\n            },\n            \"learning_rate\": 0.1,\n            \"loss\": \"binary_crossentropy\",\n            \"max_bins\": 255,\n            \"metrics\": \"loss\",\n            \"num_classes\": 2,\n            \"remote_training\": {\n                \"quorum\": 1.0,\n                \"remote_training_systems\": [\n                    {\n                        \"id\": \"57077c88-9985-41ca-81c0-4f993605868d\",\n                        \"required\": true\n                    }\n                ]\n            },\n            \"rounds\": 3,\n            \"software_spec\": {\n                \"name\": \"runtime-22.2-py3.10\"\n            }\n        },\n        \"name\": \"FL Aggregator\",\n        \"project_id\": \"2d943195-1222-476b-b14a-3bd688958446\",\n        \"results_reference\": {\n            \"connection\": {},\n            \"location\": {\n                \"path\": \".\",\n                \"notebooks_path\": \"1e1a2a61-c884-44a5-9544-f033cd94b896/notebooks\",\n                \"training\": \"1e1a2a61-c884-44a5-9544-f033cd94b896\",\n                \"training_status\": \"1e1a2a61-c884-44a5-9544-f033cd94b896/training-status.json\",\n                \"assets_path\": \"1e1a2a61-c884-44a5-9544-f033cd94b896/assets\"\n            },\n            \"type\": \"container\"\n        },\n        \"status\": {\n            \"completed_at\": \"2023-02-28T16:16:16.488Z\",\n            \"failure\": {\n                \"trace\": \"84c3d0b3b5250fb1743ed560decdfa8a\",\n                \"errors\": [\n                    {\n                        \"code\": \"unknown_job_execution_error\",\n                        \"message\": \"Downstream request POST /ml/v4/consumption?version=2019-10-25 failed with code 500 /  and response Downstream request POST /ml/v4/consumption?version=2019-10-25 failed with code 500 /  and response {\\\"errors\\\":[{\\\"code\\\":\\\"parent_fetch_failure\\\",\\\"message\\\":\\\"Resource 2d943195-1222-476b-b14a-3bd688958446 of type project could not be accessed: Resource 2d943195-1222-476b-b14a-3bd688958446 of type projectId does not define connection to machine learning compute\\\"}],\\\"trace\\\":\\\"e9182444e953f2503744ba2a3add70fc\\\"}\",\n                        \"more_info\": \"http://watson-ml-api.mybluemix.net/\"\n                    }\n                ]\n            },\n            \"state\": \"failed\"\n        },\n        \"tags\": [\n            \"wmlflxgbsampletraining\"\n        ],\n        \"training_data_references\": []\n    }\n}\n"
                }
            ],
            "source": "get_training_resp = requests.get(WML_SERVICES_URL + \"/ml/v4/trainings/\" + training_id,\n                                 headers={\"Content-Type\": \"application/json\",\n                                          \"Authorization\": token},\n                                  params={\"version\": API_VERSION,\n                                          \"project_id\": PROJECT_ID},\n                                  verify=False)\n\nprint(get_training_resp)\nstatus_json = json.loads(get_training_resp.content.decode(\"utf-8\"))\nprint(\"Get training response : \"+ json.dumps(status_json, indent=4))"
        },
        {
            "cell_type": "markdown",
            "metadata": {
                "id": "583b4cf0d6d045f083dee0a890f8685b"
            },
            "source": "<a id = \"party-notebook\"></a>\n## 5. Get Variables And Paste Into Party Notebook"
        },
        {
            "cell_type": "markdown",
            "metadata": {},
            "source": "Run the following cell and copy the output. "
        },
        {
            "cell_type": "code",
            "execution_count": 9,
            "metadata": {
                "id": "0b98345ba3ca4deeab8e51b6b1508b8e"
            },
            "outputs": [
                {
                    "name": "stdout",
                    "output_type": "stream",
                    "text": "WML_SERVICES_HOST = 'jp-tok.ml.cloud.ibm.com'\nPROJECT_ID = '2d943195-1222-476b-b14a-3bd688958446'\nIAM_APIKEY = 'BAPxeik6HjmRl30Patg8NwwKy4sIYwLMV-zakiBN_sie'\nRTS_ID = '57077c88-9985-41ca-81c0-4f993605868d'\nTRAINING_ID = '1e1a2a61-c884-44a5-9544-f033cd94b896'\n"
                }
            ],
            "source": "print(\"WML_SERVICES_HOST = '%s'\" % WML_SERVICES_HOST)\nprint(\"PROJECT_ID = '%s'\" % PROJECT_ID)\nprint(\"IAM_APIKEY = '%s'\" % IAM_APIKEY)\nprint(\"RTS_ID = '%s'\" % wml_remote_training_system_one_asset_uid)\nprint(\"TRAINING_ID = '%s'\" % (training_id))"
        },
        {
            "cell_type": "markdown",
            "metadata": {},
            "source": "As the Admin, you have now launched a Federated Learning experiment. Copy the output from the previous cell. Open Part 2 - WML Federated Learning with XGBoost and Adult Income dataset - Party and paste the output into the first code cell.  Run the Part 2 - Party notebook to the end."
        },
        {
            "cell_type": "markdown",
            "metadata": {},
            "source": "<a id = \"save-model\"></a>\n## 6. Save Trained Model To Project"
        },
        {
            "cell_type": "markdown",
            "metadata": {},
            "source": "Once training has completed, run the cells below to save the trained model into your project."
        },
        {
            "cell_type": "markdown",
            "metadata": {},
            "source": "<a id = \"cos\"></a>\n### 6.1 Connection to COS"
        },
        {
            "cell_type": "markdown",
            "metadata": {},
            "source": "This information is located in your Watson Studio project, under the Manage tab, on the General page.\n\n1. The bucket name is listed inside the Storage pane.\n2. To obtain the credentials click on the Manage in IBM Cloud link located inside the Storage pane.  From your COS instance click Service Credentials.  You can use an existing or create a new credential if needed.  \n- COS_APIKEY - the \"apikey\" from your credentials\n- COS_RESOURCE_INSTANCE_ID - the \"resource_instance_id\" from your credentials\n3. The COS endpoints are listed in your COS instance under Endpoints."
        },
        {
            "cell_type": "code",
            "execution_count": null,
            "metadata": {},
            "outputs": [],
            "source": "BUCKET = \"\" # bucket used by project ex. myproject-donotdelete-pr-tdnvueqivxep8v. Go to your project > Manage and check the bucket name under Cloud storage.\n\nCOS_ENDPOINT = \"https://s3.us.cloud-object-storage.appdomain.cloud\" # Current list available at https://control.cloud-object-storage.cloud.ibm.com/v2/endpoints\n\n# Find these in cloud.ibm.com > Storage > Credentials > <Your COS bucket> \nCOS_APIKEY = \"\" # eg \"W00YixxxxxxxxxxMB-odB-2ySfTrFBIQQWanc--P3byk\" \nCOS_RESOURCE_INSTANCE_ID = \"\" # eg \"crn:v1:bluemix:public:cloud-object-storage:global:a/3bf0d9003xxxxxxxxxx1c3e97696b71c:d6f04d83-6c4f-4a62-a165-696756d63903::\""
        },
        {
            "cell_type": "markdown",
            "metadata": {},
            "source": "<a id = \"cos-prereqs\"></a>\n### 6.2 Install pre-req"
        },
        {
            "cell_type": "code",
            "execution_count": null,
            "metadata": {},
            "outputs": [],
            "source": "!pip install ibm-cos-sdk"
        },
        {
            "cell_type": "markdown",
            "metadata": {},
            "source": "<a id = \"save-to-project\"></a>\n### 6.3 Save model to project"
        },
        {
            "cell_type": "code",
            "execution_count": null,
            "metadata": {},
            "outputs": [],
            "source": "import ibm_boto3\nfrom ibm_botocore.client import Config, ClientError\n\ncos = ibm_boto3.resource(\"s3\",\n    ibm_api_key_id=COS_APIKEY,\n    ibm_service_instance_id=COS_RESOURCE_INSTANCE_ID,\n    config=Config(signature_version=\"oauth\"),\n    endpoint_url=COS_ENDPOINT\n)\n\nITEM_NAME = training_id + \"/assets/\" + training_id + \"/resources/wml_model/request.json\"\n\nfile = cos.Object(BUCKET, ITEM_NAME).get()\nreq = json.loads(file[\"Body\"].read())\n\n\nreq[\"name\"] = \"Trained Adult Income Model\"\n\nmodel_save_payload = json.dumps(req)\nprint (\"Model save payload: %s\" % model_save_payload)"
        },
        {
            "cell_type": "code",
            "execution_count": null,
            "metadata": {},
            "outputs": [],
            "source": "model_save_resp = requests.post(WML_SERVICES_URL + \"/ml/v4/models\",\n                                params={\"version\": API_VERSION,\n                                        \"project_id\": PROJECT_ID,\n                                        \"content_format\": \"native\"},\n                                headers={\"Content-Type\": \"application/json\",\n                                         \"Authorization\": token},\n                                data=model_save_payload,\n                                verify=False)\n\nprint(model_save_resp)\nstatus_json = json.loads(model_save_resp.content.decode(\"utf-8\"))\nprint(\"Save model response : \"+ json.dumps(status_json, indent=4))\n\nmodel_id = json.loads(model_save_resp.content.decode(\"utf-8\"))[\"metadata\"][\"id\"]\nprint(\"Saved model id: %s\" % model_id)"
        },
        {
            "cell_type": "markdown",
            "metadata": {},
            "source": "<a id = \"cleanup\"></a>\n## 7. Clean Up Project"
        },
        {
            "cell_type": "markdown",
            "metadata": {},
            "source": "Use this section to delete the training jobs and assets created by this notebook."
        },
        {
            "cell_type": "markdown",
            "metadata": {},
            "source": "<a id = \"list-jobs\"></a>\n### 7.1 List all training jobs in project"
        },
        {
            "cell_type": "code",
            "execution_count": null,
            "metadata": {},
            "outputs": [],
            "source": "get_training_resp = requests.get(WML_SERVICES_URL + \"/ml/v4/trainings\",\n                                 headers={\"Content-Type\": \"application/json\",\n                                          \"Authorization\": token},\n                                 params={\"version\": API_VERSION,\n                                         \"project_id\": PROJECT_ID},\n                                 verify=False)\n\nprint(get_training_resp)\nstatus_json = json.loads(get_training_resp.content.decode(\"utf-8\"))\nprint(\"Get training response : \"+ json.dumps(status_json, indent=4))"
        },
        {
            "cell_type": "markdown",
            "metadata": {},
            "source": "<a id = \"del-jobs\"></a>\n### 7.2 Delete all training jobs in this project created by this notebook"
        },
        {
            "cell_type": "markdown",
            "metadata": {},
            "source": "This will stop all running aggregators created using this notebook."
        },
        {
            "cell_type": "code",
            "execution_count": null,
            "metadata": {},
            "outputs": [],
            "source": "get_training_resp = requests.get(WML_SERVICES_URL + \"/ml/v4/trainings\",\n                                 headers={\"Content-Type\": \"application/json\",\n                                          \"Authorization\": token},\n                                 params={\"version\": API_VERSION,\n                                         \"project_id\": PROJECT_ID,\n                                         \"tag.value\": TRAINING_TAG},\n                                 verify=False)\n\ntraining_list_json = json.loads(get_training_resp.content.decode(\"utf-8\"))\ntraining_resources=training_list_json[\"resources\"]\n\nfor training in training_resources:\n    training_id = training[\"metadata\"][\"id\"]\n    print(\"Deleting Training ID: \" + training_id)\n    delete_training_resp = requests.delete(WML_SERVICES_URL + \"/ml/v4/trainings/\" + training_id,\n                                           headers={\"Content-Type\": \"application/json\",\n                                                    \"Authorization\": token},\n                                           params={\"version\": API_VERSION,\n                                                   \"project_id\": PROJECT_ID,\n                                                   \"hard_delete\": True},\n                                           verify=False)\n    print(delete_training_resp)"
        },
        {
            "cell_type": "markdown",
            "metadata": {},
            "source": "<a id = \"list-rts\"></a>\n### 7.3 List all remote training systems in project"
        },
        {
            "cell_type": "code",
            "execution_count": null,
            "metadata": {
                "scrolled": false
            },
            "outputs": [],
            "source": "get_rts_resp = requests.get(WML_SERVICES_URL + \"/ml/v4/remote_training_systems\", \n                            headers={\"Content-Type\": \"application/json\",\n                                     \"Authorization\": token}, \n                            params={\"version\": API_VERSION,\n                                    \"project_id\": PROJECT_ID}, \n                            verify=False)\n\nprint(get_rts_resp)\nrts_list_json = json.loads(get_rts_resp.content.decode(\"utf-8\"))\nprint(\"Remote Training Systems in Project : \"+ json.dumps(rts_list_json, indent=4))"
        },
        {
            "cell_type": "markdown",
            "metadata": {},
            "source": "<a id = \"del-rts\"></a>\n### 7.4 Delete all remote training systems in this project created by this notebook"
        },
        {
            "cell_type": "code",
            "execution_count": null,
            "metadata": {},
            "outputs": [],
            "source": "get_rts_resp = requests.get(WML_SERVICES_URL + \"/ml/v4/remote_training_systems\", \n                            headers={\"Content-Type\": \"application/json\",\n                                     \"Authorization\": token}, \n                            params={\"version\": API_VERSION,\n                                    \"project_id\": PROJECT_ID,\n                                    \"tag.value\": RTS_TAG}, \n                            verify=False)\n\nrts_list_json = json.loads(get_rts_resp.content.decode(\"utf-8\"))\nrts_resources=rts_list_json[\"resources\"]\n\nfor rts in rts_resources:\n    rts_id = rts[\"metadata\"][\"id\"]\n    print(\"Deleting RTS ID: \" + rts_id)\n    delete_rts_resp = requests.delete(WML_SERVICES_URL + \"/ml/v4/remote_training_systems/\" + rts_id, \n                                      headers={\"Content-Type\": \"application/json\",\n                                               \"Authorization\": token}, \n                                      params={\"version\": API_VERSION,\n                                              \"project_id\": PROJECT_ID}, \n                                      verify=False)\n    print(delete_rts_resp)"
        },
        {
            "cell_type": "markdown",
            "metadata": {},
            "source": "# <hr>\nCopyright \u00a9 2020-2022 IBM. This notebook and its source code are released under the terms of the MIT License.\n\u2028\n<br><br>\n<div style=\"background:#F5F7FA; height:110px; padding: 2em; font-size:14px;\">\n<span style=\"font-size:18px;color:#152935;\">Love this notebook? </span>\n<span style=\"font-size:15px;color:#152935;float:right;margin-right:40px;\">Don't have an account yet?</span><br>\n<span style=\"color:#5A6872;\">Share it with your colleagues and help them discover the power of Watson Studio!</span>\n<span style=\"border: 1px solid #3d70b2;padding:8px;float:right;margin-right:40px; color:#3d70b2;\"><a href=\"https://ibm.co/wsnotebooks\" target=\"_blank\" style=\"color: #3d70b2;text-decoration: none;\">Sign Up</a></span><br>\n</div>"
        }
    ],
    "metadata": {
        "kernelspec": {
            "display_name": "Python 3.10",
            "language": "python",
            "name": "python3"
        },
        "language_info": {
            "codemirror_mode": {
                "name": "ipython",
                "version": 3
            },
            "file_extension": ".py",
            "mimetype": "text/x-python",
            "name": "python",
            "nbconvert_exporter": "python",
            "pygments_lexer": "ipython3",
            "version": "3.10.6"
        },
        "vscode": {
            "interpreter": {
                "hash": "31f2aee4e71d21fbe5cf8b01ff0e069b9275f58929596ceb00d14d90e3e16cd6"
            }
        }
    },
    "nbformat": 4,
    "nbformat_minor": 1
}